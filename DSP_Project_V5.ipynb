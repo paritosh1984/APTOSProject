{
 "cells": [
  {
   "cell_type": "markdown",
   "metadata": {},
   "source": [
    "# DSP Project Version 5 with all classes, applying Convolutional Neural Network."
   ]
  },
  {
   "cell_type": "code",
   "execution_count": 1,
   "metadata": {},
   "outputs": [
    {
     "name": "stderr",
     "output_type": "stream",
     "text": [
      "Using TensorFlow backend.\n"
     ]
    }
   ],
   "source": [
    "# Importing the Keras libraries and packages\n",
    "import keras\n",
    "from keras.models import Sequential\n",
    "from keras.layers import Dense, Dropout, Flatten\n",
    "from keras.layers import Conv2D, MaxPooling2D\n",
    "from keras.utils import to_categorical\n",
    "from keras.preprocessing import image\n",
    "import numpy as np\n",
    "import pandas as pd\n",
    "import matplotlib.pyplot as plt\n",
    "from sklearn.model_selection import train_test_split\n",
    "from keras.utils import to_categorical\n",
    "from tqdm import tqdm"
   ]
  },
  {
   "cell_type": "code",
   "execution_count": 2,
   "metadata": {},
   "outputs": [],
   "source": [
    "data = pd.read_csv('train.csv')"
   ]
  },
  {
   "cell_type": "code",
   "execution_count": 3,
   "metadata": {},
   "outputs": [
    {
     "name": "stderr",
     "output_type": "stream",
     "text": [
      "100%|██████████████████████████████████████████████████████████████████████████████| 3662/3662 [07:12<00:00,  9.69it/s]\n"
     ]
    }
   ],
   "source": [
    "# We do not have grayscale images, so while loading the images we will keep grayscale=False, if you have RGB images, you should set grayscale as True\n",
    "train_image = []\n",
    "for i in tqdm(range(data.shape[0])):\n",
    "    img = image.load_img('train_images/' + data['id_code'][i] + '.png', target_size=(64,64,3), grayscale=False)\n",
    "    img = image.img_to_array(img)\n",
    "    img = img/255\n",
    "    train_image.append(img)\n",
    "X = np.array(train_image)"
   ]
  },
  {
   "cell_type": "code",
   "execution_count": 5,
   "metadata": {},
   "outputs": [],
   "source": [
    "y = data['diagnosis'].values\n",
    "y = to_categorical(y)"
   ]
  },
  {
   "cell_type": "code",
   "execution_count": 6,
   "metadata": {},
   "outputs": [],
   "source": [
    "X_train, X_test, y_train, y_test = train_test_split(X, y, random_state=42, test_size=0.2)"
   ]
  },
  {
   "cell_type": "code",
   "execution_count": 7,
   "metadata": {},
   "outputs": [],
   "source": [
    "# Initializing the CNN\n",
    "classifier = Sequential()"
   ]
  },
  {
   "cell_type": "code",
   "execution_count": 9,
   "metadata": {},
   "outputs": [
    {
     "name": "stderr",
     "output_type": "stream",
     "text": [
      "C:\\Users\\varun\\conda\\envs\\test_env\\lib\\site-packages\\ipykernel_launcher.py:2: UserWarning: Update your `Conv2D` call to the Keras 2 API: `Conv2D(32, (3, 3), input_shape=(64, 64, 3..., activation=\"relu\")`\n",
      "  \n"
     ]
    }
   ],
   "source": [
    "# Step 1 - Convolution\n",
    "classifier.add(Conv2D(32,3,3, input_shape = (64, 64, 3), activation = 'relu'))"
   ]
  },
  {
   "cell_type": "code",
   "execution_count": 10,
   "metadata": {},
   "outputs": [],
   "source": [
    "# Step 2 - Pooling\n",
    "classifier.add(MaxPooling2D(pool_size = (2,2)))"
   ]
  },
  {
   "cell_type": "code",
   "execution_count": 11,
   "metadata": {},
   "outputs": [],
   "source": [
    "# Step 3 - Flattening\n",
    "classifier.add(Flatten())"
   ]
  },
  {
   "cell_type": "code",
   "execution_count": 12,
   "metadata": {},
   "outputs": [
    {
     "name": "stderr",
     "output_type": "stream",
     "text": [
      "C:\\Users\\varun\\conda\\envs\\test_env\\lib\\site-packages\\ipykernel_launcher.py:2: UserWarning: Update your `Dense` call to the Keras 2 API: `Dense(activation=\"relu\", units=128)`\n",
      "  \n",
      "C:\\Users\\varun\\conda\\envs\\test_env\\lib\\site-packages\\ipykernel_launcher.py:3: UserWarning: Update your `Dense` call to the Keras 2 API: `Dense(activation=\"softmax\", units=5)`\n",
      "  This is separate from the ipykernel package so we can avoid doing imports until\n"
     ]
    }
   ],
   "source": [
    "# Step 4 - Full Connection\n",
    "classifier.add(Dense(output_dim = 128, activation = 'relu'))\n",
    "classifier.add(Dense(output_dim = 5, activation = 'softmax'))"
   ]
  },
  {
   "cell_type": "code",
   "execution_count": 13,
   "metadata": {},
   "outputs": [],
   "source": [
    "# Compiling the CNN\n",
    "classifier.compile(optimizer = 'adam', loss = 'categorical_crossentropy', metrics = ['accuracy'])"
   ]
  },
  {
   "cell_type": "code",
   "execution_count": 16,
   "metadata": {},
   "outputs": [
    {
     "name": "stdout",
     "output_type": "stream",
     "text": [
      "Epoch 1/20\n",
      "2929/2929 [==============================] - ETA: 5s - loss: 0.4681 - accuracy: 0.82 - ETA: 5s - loss: 0.5380 - accuracy: 0.80 - ETA: 4s - loss: 0.5321 - accuracy: 0.81 - ETA: 4s - loss: 0.5305 - accuracy: 0.79 - ETA: 4s - loss: 0.5115 - accuracy: 0.80 - ETA: 4s - loss: 0.5158 - accuracy: 0.80 - ETA: 4s - loss: 0.5173 - accuracy: 0.80 - ETA: 4s - loss: 0.5320 - accuracy: 0.79 - ETA: 3s - loss: 0.5163 - accuracy: 0.80 - ETA: 3s - loss: 0.5080 - accuracy: 0.80 - ETA: 3s - loss: 0.5024 - accuracy: 0.81 - ETA: 3s - loss: 0.5095 - accuracy: 0.80 - ETA: 3s - loss: 0.5077 - accuracy: 0.81 - ETA: 2s - loss: 0.5014 - accuracy: 0.81 - ETA: 2s - loss: 0.5010 - accuracy: 0.80 - ETA: 2s - loss: 0.5032 - accuracy: 0.81 - ETA: 2s - loss: 0.4994 - accuracy: 0.81 - ETA: 2s - loss: 0.4981 - accuracy: 0.81 - ETA: 1s - loss: 0.4950 - accuracy: 0.81 - ETA: 1s - loss: 0.4952 - accuracy: 0.81 - ETA: 1s - loss: 0.4995 - accuracy: 0.81 - ETA: 1s - loss: 0.5010 - accuracy: 0.81 - ETA: 1s - loss: 0.4957 - accuracy: 0.81 - ETA: 1s - loss: 0.5021 - accuracy: 0.81 - ETA: 0s - loss: 0.5026 - accuracy: 0.81 - ETA: 0s - loss: 0.5032 - accuracy: 0.81 - ETA: 0s - loss: 0.5021 - accuracy: 0.81 - ETA: 0s - loss: 0.4992 - accuracy: 0.81 - ETA: 0s - loss: 0.4972 - accuracy: 0.81 - 6s 2ms/step - loss: 0.4972 - accuracy: 0.8139\n",
      "Epoch 2/20\n",
      "2929/2929 [==============================] - ETA: 5s - loss: 0.4124 - accuracy: 0.87 - ETA: 5s - loss: 0.4258 - accuracy: 0.85 - ETA: 4s - loss: 0.4030 - accuracy: 0.86 - ETA: 4s - loss: 0.3922 - accuracy: 0.87 - ETA: 4s - loss: 0.4308 - accuracy: 0.85 - ETA: 4s - loss: 0.4310 - accuracy: 0.84 - ETA: 4s - loss: 0.4439 - accuracy: 0.84 - ETA: 4s - loss: 0.4328 - accuracy: 0.84 - ETA: 3s - loss: 0.4234 - accuracy: 0.85 - ETA: 3s - loss: 0.4192 - accuracy: 0.85 - ETA: 3s - loss: 0.4200 - accuracy: 0.85 - ETA: 3s - loss: 0.4263 - accuracy: 0.84 - ETA: 3s - loss: 0.4425 - accuracy: 0.84 - ETA: 2s - loss: 0.4362 - accuracy: 0.84 - ETA: 2s - loss: 0.4421 - accuracy: 0.83 - ETA: 2s - loss: 0.4494 - accuracy: 0.83 - ETA: 2s - loss: 0.4546 - accuracy: 0.83 - ETA: 2s - loss: 0.4525 - accuracy: 0.84 - ETA: 1s - loss: 0.4590 - accuracy: 0.83 - ETA: 1s - loss: 0.4520 - accuracy: 0.84 - ETA: 1s - loss: 0.4514 - accuracy: 0.84 - ETA: 1s - loss: 0.4584 - accuracy: 0.84 - ETA: 1s - loss: 0.4574 - accuracy: 0.84 - ETA: 1s - loss: 0.4609 - accuracy: 0.83 - ETA: 0s - loss: 0.4592 - accuracy: 0.83 - ETA: 0s - loss: 0.4589 - accuracy: 0.83 - ETA: 0s - loss: 0.4602 - accuracy: 0.83 - ETA: 0s - loss: 0.4622 - accuracy: 0.83 - ETA: 0s - loss: 0.4630 - accuracy: 0.83 - 6s 2ms/step - loss: 0.4630 - accuracy: 0.8341\n",
      "Epoch 3/20\n",
      "2929/2929 [==============================] - ETA: 5s - loss: 0.4975 - accuracy: 0.80 - ETA: 5s - loss: 0.4862 - accuracy: 0.79 - ETA: 5s - loss: 0.5015 - accuracy: 0.80 - ETA: 4s - loss: 0.4931 - accuracy: 0.80 - ETA: 4s - loss: 0.4877 - accuracy: 0.81 - ETA: 4s - loss: 0.5014 - accuracy: 0.81 - ETA: 4s - loss: 0.4993 - accuracy: 0.81 - ETA: 4s - loss: 0.4988 - accuracy: 0.82 - ETA: 3s - loss: 0.5084 - accuracy: 0.81 - ETA: 3s - loss: 0.4979 - accuracy: 0.82 - ETA: 3s - loss: 0.4852 - accuracy: 0.83 - ETA: 3s - loss: 0.4707 - accuracy: 0.83 - ETA: 3s - loss: 0.4690 - accuracy: 0.83 - ETA: 2s - loss: 0.4760 - accuracy: 0.83 - ETA: 2s - loss: 0.4705 - accuracy: 0.83 - ETA: 2s - loss: 0.4667 - accuracy: 0.83 - ETA: 2s - loss: 0.4634 - accuracy: 0.83 - ETA: 2s - loss: 0.4623 - accuracy: 0.83 - ETA: 1s - loss: 0.4593 - accuracy: 0.83 - ETA: 1s - loss: 0.4601 - accuracy: 0.83 - ETA: 1s - loss: 0.4595 - accuracy: 0.83 - ETA: 1s - loss: 0.4566 - accuracy: 0.83 - ETA: 1s - loss: 0.4553 - accuracy: 0.83 - ETA: 1s - loss: 0.4562 - accuracy: 0.83 - ETA: 0s - loss: 0.4554 - accuracy: 0.83 - ETA: 0s - loss: 0.4646 - accuracy: 0.83 - ETA: 0s - loss: 0.4629 - accuracy: 0.83 - ETA: 0s - loss: 0.4556 - accuracy: 0.83 - ETA: 0s - loss: 0.4580 - accuracy: 0.83 - 6s 2ms/step - loss: 0.4566 - accuracy: 0.8358\n",
      "Epoch 4/20\n",
      "2929/2929 [==============================] - ETA: 5s - loss: 0.3371 - accuracy: 0.89 - ETA: 5s - loss: 0.4243 - accuracy: 0.84 - ETA: 5s - loss: 0.4082 - accuracy: 0.85 - ETA: 5s - loss: 0.4559 - accuracy: 0.82 - ETA: 4s - loss: 0.4636 - accuracy: 0.80 - ETA: 4s - loss: 0.4669 - accuracy: 0.81 - ETA: 4s - loss: 0.4706 - accuracy: 0.81 - ETA: 4s - loss: 0.4640 - accuracy: 0.82 - ETA: 3s - loss: 0.4648 - accuracy: 0.82 - ETA: 3s - loss: 0.4516 - accuracy: 0.82 - ETA: 3s - loss: 0.4504 - accuracy: 0.82 - ETA: 3s - loss: 0.4504 - accuracy: 0.82 - ETA: 3s - loss: 0.4456 - accuracy: 0.82 - ETA: 2s - loss: 0.4414 - accuracy: 0.83 - ETA: 2s - loss: 0.4443 - accuracy: 0.82 - ETA: 2s - loss: 0.4462 - accuracy: 0.83 - ETA: 2s - loss: 0.4449 - accuracy: 0.83 - ETA: 2s - loss: 0.4431 - accuracy: 0.83 - ETA: 2s - loss: 0.4398 - accuracy: 0.83 - ETA: 1s - loss: 0.4374 - accuracy: 0.83 - ETA: 1s - loss: 0.4408 - accuracy: 0.83 - ETA: 1s - loss: 0.4396 - accuracy: 0.83 - ETA: 1s - loss: 0.4368 - accuracy: 0.83 - ETA: 1s - loss: 0.4348 - accuracy: 0.83 - ETA: 0s - loss: 0.4342 - accuracy: 0.83 - ETA: 0s - loss: 0.4331 - accuracy: 0.84 - ETA: 0s - loss: 0.4356 - accuracy: 0.83 - ETA: 0s - loss: 0.4308 - accuracy: 0.84 - ETA: 0s - loss: 0.4322 - accuracy: 0.84 - 6s 2ms/step - loss: 0.4320 - accuracy: 0.8423\n",
      "Epoch 5/20\n",
      "2929/2929 [==============================] - ETA: 5s - loss: 0.3874 - accuracy: 0.85 - ETA: 5s - loss: 0.4256 - accuracy: 0.84 - ETA: 5s - loss: 0.4077 - accuracy: 0.84 - ETA: 4s - loss: 0.4301 - accuracy: 0.83 - ETA: 4s - loss: 0.4135 - accuracy: 0.84 - ETA: 4s - loss: 0.4109 - accuracy: 0.84 - ETA: 4s - loss: 0.4167 - accuracy: 0.84 - ETA: 4s - loss: 0.4183 - accuracy: 0.84 - ETA: 4s - loss: 0.4091 - accuracy: 0.85 - ETA: 3s - loss: 0.4135 - accuracy: 0.84 - ETA: 3s - loss: 0.4147 - accuracy: 0.84 - ETA: 3s - loss: 0.4060 - accuracy: 0.85 - ETA: 3s - loss: 0.4008 - accuracy: 0.85 - ETA: 2s - loss: 0.4020 - accuracy: 0.85 - ETA: 2s - loss: 0.4001 - accuracy: 0.85 - ETA: 2s - loss: 0.4032 - accuracy: 0.85 - ETA: 2s - loss: 0.4044 - accuracy: 0.84 - ETA: 2s - loss: 0.4098 - accuracy: 0.84 - ETA: 2s - loss: 0.4086 - accuracy: 0.84 - ETA: 1s - loss: 0.4101 - accuracy: 0.84 - ETA: 1s - loss: 0.4103 - accuracy: 0.84 - ETA: 1s - loss: 0.4088 - accuracy: 0.84 - ETA: 1s - loss: 0.4142 - accuracy: 0.84 - ETA: 1s - loss: 0.4152 - accuracy: 0.83 - ETA: 0s - loss: 0.4173 - accuracy: 0.83 - ETA: 0s - loss: 0.4151 - accuracy: 0.83 - ETA: 0s - loss: 0.4194 - accuracy: 0.83 - ETA: 0s - loss: 0.4193 - accuracy: 0.83 - ETA: 0s - loss: 0.4177 - accuracy: 0.83 - 6s 2ms/step - loss: 0.4175 - accuracy: 0.8385\n",
      "Epoch 6/20\n",
      "2929/2929 [==============================] - ETA: 5s - loss: 0.3518 - accuracy: 0.87 - ETA: 5s - loss: 0.3624 - accuracy: 0.87 - ETA: 5s - loss: 0.3895 - accuracy: 0.86 - ETA: 4s - loss: 0.4074 - accuracy: 0.85 - ETA: 4s - loss: 0.4145 - accuracy: 0.84 - ETA: 4s - loss: 0.4213 - accuracy: 0.84 - ETA: 4s - loss: 0.4234 - accuracy: 0.83 - ETA: 4s - loss: 0.4109 - accuracy: 0.84 - ETA: 3s - loss: 0.4095 - accuracy: 0.84 - ETA: 3s - loss: 0.4067 - accuracy: 0.84 - ETA: 3s - loss: 0.4095 - accuracy: 0.84 - ETA: 3s - loss: 0.4139 - accuracy: 0.84 - ETA: 3s - loss: 0.4080 - accuracy: 0.85 - ETA: 2s - loss: 0.4072 - accuracy: 0.85 - ETA: 2s - loss: 0.4027 - accuracy: 0.85 - ETA: 2s - loss: 0.4014 - accuracy: 0.85 - ETA: 2s - loss: 0.4023 - accuracy: 0.85 - ETA: 2s - loss: 0.4027 - accuracy: 0.85 - ETA: 1s - loss: 0.4068 - accuracy: 0.84 - ETA: 1s - loss: 0.4013 - accuracy: 0.85 - ETA: 1s - loss: 0.4056 - accuracy: 0.84 - ETA: 1s - loss: 0.4067 - accuracy: 0.84 - ETA: 1s - loss: 0.4074 - accuracy: 0.84 - ETA: 1s - loss: 0.4050 - accuracy: 0.85 - ETA: 0s - loss: 0.4042 - accuracy: 0.85 - ETA: 0s - loss: 0.4016 - accuracy: 0.85 - ETA: 0s - loss: 0.4020 - accuracy: 0.85 - ETA: 0s - loss: 0.3999 - accuracy: 0.85 - ETA: 0s - loss: 0.3976 - accuracy: 0.85 - 6s 2ms/step - loss: 0.3975 - accuracy: 0.8573\n",
      "Epoch 7/20\n",
      "2929/2929 [==============================] - ETA: 5s - loss: 0.2810 - accuracy: 0.93 - ETA: 5s - loss: 0.2995 - accuracy: 0.93 - ETA: 5s - loss: 0.3206 - accuracy: 0.92 - ETA: 5s - loss: 0.3324 - accuracy: 0.91 - ETA: 4s - loss: 0.3291 - accuracy: 0.91 - ETA: 4s - loss: 0.3436 - accuracy: 0.90 - ETA: 4s - loss: 0.3440 - accuracy: 0.90 - ETA: 4s - loss: 0.3473 - accuracy: 0.89 - ETA: 3s - loss: 0.3428 - accuracy: 0.89 - ETA: 3s - loss: 0.3381 - accuracy: 0.89 - ETA: 3s - loss: 0.3381 - accuracy: 0.88 - ETA: 3s - loss: 0.3416 - accuracy: 0.88 - ETA: 3s - loss: 0.3471 - accuracy: 0.88 - ETA: 2s - loss: 0.3490 - accuracy: 0.88 - ETA: 2s - loss: 0.3557 - accuracy: 0.88 - ETA: 2s - loss: 0.3533 - accuracy: 0.88 - ETA: 2s - loss: 0.3520 - accuracy: 0.88 - ETA: 2s - loss: 0.3524 - accuracy: 0.88 - ETA: 1s - loss: 0.3553 - accuracy: 0.88 - ETA: 1s - loss: 0.3578 - accuracy: 0.88 - ETA: 1s - loss: 0.3591 - accuracy: 0.88 - ETA: 1s - loss: 0.3584 - accuracy: 0.88 - ETA: 1s - loss: 0.3608 - accuracy: 0.88 - ETA: 1s - loss: 0.3594 - accuracy: 0.88 - ETA: 0s - loss: 0.3589 - accuracy: 0.88 - ETA: 0s - loss: 0.3555 - accuracy: 0.88 - ETA: 0s - loss: 0.3555 - accuracy: 0.88 - ETA: 0s - loss: 0.3580 - accuracy: 0.88 - ETA: 0s - loss: 0.3557 - accuracy: 0.88 - 6s 2ms/step - loss: 0.3541 - accuracy: 0.8819\n",
      "Epoch 8/20\n",
      "2929/2929 [==============================] - ETA: 5s - loss: 0.4358 - accuracy: 0.85 - ETA: 5s - loss: 0.3668 - accuracy: 0.88 - ETA: 5s - loss: 0.3732 - accuracy: 0.87 - ETA: 5s - loss: 0.3745 - accuracy: 0.87 - ETA: 4s - loss: 0.3693 - accuracy: 0.87 - ETA: 4s - loss: 0.3517 - accuracy: 0.87 - ETA: 4s - loss: 0.3587 - accuracy: 0.87 - ETA: 4s - loss: 0.3611 - accuracy: 0.87 - ETA: 3s - loss: 0.3465 - accuracy: 0.87 - ETA: 3s - loss: 0.3528 - accuracy: 0.87 - ETA: 3s - loss: 0.3472 - accuracy: 0.87 - ETA: 3s - loss: 0.3445 - accuracy: 0.87 - ETA: 3s - loss: 0.3427 - accuracy: 0.88 - ETA: 2s - loss: 0.3398 - accuracy: 0.88 - ETA: 2s - loss: 0.3390 - accuracy: 0.88 - ETA: 2s - loss: 0.3392 - accuracy: 0.88 - ETA: 2s - loss: 0.3399 - accuracy: 0.88 - ETA: 2s - loss: 0.3429 - accuracy: 0.88 - ETA: 1s - loss: 0.3400 - accuracy: 0.88 - ETA: 1s - loss: 0.3391 - accuracy: 0.88 - ETA: 1s - loss: 0.3399 - accuracy: 0.88 - ETA: 1s - loss: 0.3393 - accuracy: 0.88 - ETA: 1s - loss: 0.3402 - accuracy: 0.88 - ETA: 1s - loss: 0.3408 - accuracy: 0.88 - ETA: 0s - loss: 0.3375 - accuracy: 0.88 - ETA: 0s - loss: 0.3372 - accuracy: 0.88 - ETA: 0s - loss: 0.3380 - accuracy: 0.88 - ETA: 0s - loss: 0.3387 - accuracy: 0.88 - ETA: 0s - loss: 0.3397 - accuracy: 0.88 - 6s 2ms/step - loss: 0.3390 - accuracy: 0.8826\n",
      "Epoch 9/20\n",
      "2929/2929 [==============================] - ETA: 5s - loss: 0.3511 - accuracy: 0.85 - ETA: 5s - loss: 0.3814 - accuracy: 0.84 - ETA: 4s - loss: 0.3837 - accuracy: 0.84 - ETA: 4s - loss: 0.3827 - accuracy: 0.85 - ETA: 4s - loss: 0.3552 - accuracy: 0.86 - ETA: 4s - loss: 0.3529 - accuracy: 0.87 - ETA: 4s - loss: 0.3538 - accuracy: 0.87 - ETA: 4s - loss: 0.3562 - accuracy: 0.87 - ETA: 3s - loss: 0.3407 - accuracy: 0.87 - ETA: 3s - loss: 0.3515 - accuracy: 0.87 - ETA: 3s - loss: 0.3551 - accuracy: 0.87 - ETA: 3s - loss: 0.3451 - accuracy: 0.87 - ETA: 3s - loss: 0.3455 - accuracy: 0.87 - ETA: 2s - loss: 0.3401 - accuracy: 0.88 - ETA: 2s - loss: 0.3426 - accuracy: 0.87 - ETA: 2s - loss: 0.3400 - accuracy: 0.87 - ETA: 2s - loss: 0.3400 - accuracy: 0.87 - ETA: 2s - loss: 0.3368 - accuracy: 0.88 - ETA: 1s - loss: 0.3389 - accuracy: 0.87 - ETA: 1s - loss: 0.3350 - accuracy: 0.88 - ETA: 1s - loss: 0.3313 - accuracy: 0.88 - ETA: 1s - loss: 0.3334 - accuracy: 0.88 - ETA: 1s - loss: 0.3319 - accuracy: 0.88 - ETA: 1s - loss: 0.3320 - accuracy: 0.88 - ETA: 0s - loss: 0.3309 - accuracy: 0.88 - ETA: 0s - loss: 0.3334 - accuracy: 0.88 - ETA: 0s - loss: 0.3322 - accuracy: 0.88 - ETA: 0s - loss: 0.3321 - accuracy: 0.88 - ETA: 0s - loss: 0.3305 - accuracy: 0.88 - 6s 2ms/step - loss: 0.3306 - accuracy: 0.8812\n",
      "Epoch 10/20\n",
      "2929/2929 [==============================] - ETA: 5s - loss: 0.2435 - accuracy: 0.91 - ETA: 5s - loss: 0.2909 - accuracy: 0.91 - ETA: 4s - loss: 0.3091 - accuracy: 0.90 - ETA: 4s - loss: 0.3273 - accuracy: 0.90 - ETA: 4s - loss: 0.3312 - accuracy: 0.89 - ETA: 4s - loss: 0.3113 - accuracy: 0.90 - ETA: 4s - loss: 0.3023 - accuracy: 0.90 - ETA: 4s - loss: 0.2965 - accuracy: 0.90 - ETA: 3s - loss: 0.2928 - accuracy: 0.90 - ETA: 3s - loss: 0.2894 - accuracy: 0.90 - ETA: 3s - loss: 0.2949 - accuracy: 0.90 - ETA: 3s - loss: 0.2932 - accuracy: 0.90 - ETA: 3s - loss: 0.2957 - accuracy: 0.90 - ETA: 2s - loss: 0.2983 - accuracy: 0.90 - ETA: 2s - loss: 0.2981 - accuracy: 0.90 - ETA: 2s - loss: 0.2974 - accuracy: 0.90 - ETA: 2s - loss: 0.2946 - accuracy: 0.90 - ETA: 2s - loss: 0.2927 - accuracy: 0.91 - ETA: 1s - loss: 0.2966 - accuracy: 0.90 - ETA: 1s - loss: 0.2997 - accuracy: 0.90 - ETA: 1s - loss: 0.3003 - accuracy: 0.90 - ETA: 1s - loss: 0.2999 - accuracy: 0.90 - ETA: 1s - loss: 0.3012 - accuracy: 0.90 - ETA: 1s - loss: 0.3044 - accuracy: 0.90 - ETA: 0s - loss: 0.3030 - accuracy: 0.90 - ETA: 0s - loss: 0.3034 - accuracy: 0.90 - ETA: 0s - loss: 0.3023 - accuracy: 0.90 - ETA: 0s - loss: 0.3026 - accuracy: 0.90 - ETA: 0s - loss: 0.3028 - accuracy: 0.90 - 6s 2ms/step - loss: 0.3029 - accuracy: 0.9024\n",
      "Epoch 11/20\n",
      "2929/2929 [==============================] - ETA: 5s - loss: 0.3753 - accuracy: 0.88 - ETA: 5s - loss: 0.3191 - accuracy: 0.89 - ETA: 5s - loss: 0.3078 - accuracy: 0.89 - ETA: 4s - loss: 0.3125 - accuracy: 0.89 - ETA: 4s - loss: 0.3048 - accuracy: 0.89 - ETA: 4s - loss: 0.2998 - accuracy: 0.89 - ETA: 4s - loss: 0.3114 - accuracy: 0.89 - ETA: 4s - loss: 0.3137 - accuracy: 0.89 - ETA: 3s - loss: 0.3127 - accuracy: 0.89 - ETA: 3s - loss: 0.3071 - accuracy: 0.89 - ETA: 3s - loss: 0.3101 - accuracy: 0.89 - ETA: 3s - loss: 0.3090 - accuracy: 0.89 - ETA: 3s - loss: 0.3147 - accuracy: 0.89 - ETA: 2s - loss: 0.3083 - accuracy: 0.90 - ETA: 2s - loss: 0.3075 - accuracy: 0.90 - ETA: 2s - loss: 0.3102 - accuracy: 0.89 - ETA: 2s - loss: 0.3109 - accuracy: 0.89 - ETA: 2s - loss: 0.3042 - accuracy: 0.90 - ETA: 1s - loss: 0.3036 - accuracy: 0.89 - ETA: 1s - loss: 0.3029 - accuracy: 0.89 - ETA: 1s - loss: 0.2982 - accuracy: 0.90 - ETA: 1s - loss: 0.2967 - accuracy: 0.90 - ETA: 1s - loss: 0.2967 - accuracy: 0.90 - ETA: 1s - loss: 0.2936 - accuracy: 0.90 - ETA: 0s - loss: 0.2917 - accuracy: 0.90 - ETA: 0s - loss: 0.2883 - accuracy: 0.90 - ETA: 0s - loss: 0.2906 - accuracy: 0.90 - ETA: 0s - loss: 0.2903 - accuracy: 0.90 - ETA: 0s - loss: 0.2908 - accuracy: 0.90 - 6s 2ms/step - loss: 0.2925 - accuracy: 0.9013\n",
      "Epoch 12/20\n",
      "2929/2929 [==============================] - ETA: 5s - loss: 0.3192 - accuracy: 0.89 - ETA: 5s - loss: 0.3173 - accuracy: 0.89 - ETA: 5s - loss: 0.3132 - accuracy: 0.89 - ETA: 4s - loss: 0.2927 - accuracy: 0.90 - ETA: 4s - loss: 0.2870 - accuracy: 0.90 - ETA: 4s - loss: 0.2808 - accuracy: 0.91 - ETA: 4s - loss: 0.2814 - accuracy: 0.91 - ETA: 4s - loss: 0.2847 - accuracy: 0.91 - ETA: 3s - loss: 0.2940 - accuracy: 0.90 - ETA: 3s - loss: 0.2898 - accuracy: 0.90 - ETA: 3s - loss: 0.2864 - accuracy: 0.91 - ETA: 3s - loss: 0.2869 - accuracy: 0.90 - ETA: 3s - loss: 0.2841 - accuracy: 0.90 - ETA: 2s - loss: 0.2809 - accuracy: 0.91 - ETA: 2s - loss: 0.2790 - accuracy: 0.91 - ETA: 2s - loss: 0.2788 - accuracy: 0.90 - ETA: 2s - loss: 0.2775 - accuracy: 0.90 - ETA: 2s - loss: 0.2768 - accuracy: 0.90 - ETA: 1s - loss: 0.2768 - accuracy: 0.90 - ETA: 1s - loss: 0.2789 - accuracy: 0.90 - ETA: 1s - loss: 0.2763 - accuracy: 0.90 - ETA: 1s - loss: 0.2809 - accuracy: 0.90 - ETA: 1s - loss: 0.2755 - accuracy: 0.90 - ETA: 1s - loss: 0.2746 - accuracy: 0.90 - ETA: 0s - loss: 0.2789 - accuracy: 0.90 - ETA: 0s - loss: 0.2803 - accuracy: 0.90 - ETA: 0s - loss: 0.2784 - accuracy: 0.90 - ETA: 0s - loss: 0.2776 - accuracy: 0.90 - ETA: 0s - loss: 0.2792 - accuracy: 0.90 - 6s 2ms/step - loss: 0.2807 - accuracy: 0.9061\n",
      "Epoch 13/20\n"
     ]
    },
    {
     "name": "stdout",
     "output_type": "stream",
     "text": [
      "2929/2929 [==============================] - ETA: 5s - loss: 0.2884 - accuracy: 0.94 - ETA: 5s - loss: 0.2522 - accuracy: 0.94 - ETA: 5s - loss: 0.2590 - accuracy: 0.93 - ETA: 4s - loss: 0.2674 - accuracy: 0.92 - ETA: 4s - loss: 0.2878 - accuracy: 0.91 - ETA: 4s - loss: 0.2975 - accuracy: 0.90 - ETA: 4s - loss: 0.2959 - accuracy: 0.90 - ETA: 4s - loss: 0.2840 - accuracy: 0.90 - ETA: 3s - loss: 0.2933 - accuracy: 0.90 - ETA: 3s - loss: 0.2872 - accuracy: 0.91 - ETA: 3s - loss: 0.2871 - accuracy: 0.91 - ETA: 3s - loss: 0.2945 - accuracy: 0.90 - ETA: 3s - loss: 0.2907 - accuracy: 0.90 - ETA: 2s - loss: 0.2859 - accuracy: 0.90 - ETA: 2s - loss: 0.2845 - accuracy: 0.90 - ETA: 2s - loss: 0.2826 - accuracy: 0.90 - ETA: 2s - loss: 0.2815 - accuracy: 0.90 - ETA: 2s - loss: 0.2791 - accuracy: 0.90 - ETA: 1s - loss: 0.2791 - accuracy: 0.90 - ETA: 1s - loss: 0.2773 - accuracy: 0.90 - ETA: 1s - loss: 0.2749 - accuracy: 0.90 - ETA: 1s - loss: 0.2744 - accuracy: 0.90 - ETA: 1s - loss: 0.2750 - accuracy: 0.90 - ETA: 1s - loss: 0.2718 - accuracy: 0.91 - ETA: 0s - loss: 0.2695 - accuracy: 0.91 - ETA: 0s - loss: 0.2706 - accuracy: 0.91 - ETA: 0s - loss: 0.2721 - accuracy: 0.91 - ETA: 0s - loss: 0.2703 - accuracy: 0.91 - ETA: 0s - loss: 0.2698 - accuracy: 0.90 - 6s 2ms/step - loss: 0.2693 - accuracy: 0.9099\n",
      "Epoch 14/20\n",
      "2929/2929 [==============================] - ETA: 5s - loss: 0.1460 - accuracy: 0.97 - ETA: 5s - loss: 0.1752 - accuracy: 0.96 - ETA: 5s - loss: 0.1887 - accuracy: 0.95 - ETA: 4s - loss: 0.2091 - accuracy: 0.94 - ETA: 4s - loss: 0.2050 - accuracy: 0.94 - ETA: 4s - loss: 0.2160 - accuracy: 0.94 - ETA: 4s - loss: 0.2118 - accuracy: 0.94 - ETA: 3s - loss: 0.2192 - accuracy: 0.93 - ETA: 3s - loss: 0.2174 - accuracy: 0.93 - ETA: 3s - loss: 0.2189 - accuracy: 0.93 - ETA: 3s - loss: 0.2213 - accuracy: 0.93 - ETA: 3s - loss: 0.2223 - accuracy: 0.93 - ETA: 3s - loss: 0.2238 - accuracy: 0.93 - ETA: 2s - loss: 0.2196 - accuracy: 0.93 - ETA: 2s - loss: 0.2213 - accuracy: 0.93 - ETA: 2s - loss: 0.2212 - accuracy: 0.93 - ETA: 2s - loss: 0.2216 - accuracy: 0.93 - ETA: 2s - loss: 0.2213 - accuracy: 0.93 - ETA: 1s - loss: 0.2215 - accuracy: 0.93 - ETA: 1s - loss: 0.2203 - accuracy: 0.93 - ETA: 1s - loss: 0.2247 - accuracy: 0.93 - ETA: 1s - loss: 0.2256 - accuracy: 0.93 - ETA: 1s - loss: 0.2244 - accuracy: 0.93 - ETA: 0s - loss: 0.2233 - accuracy: 0.93 - ETA: 0s - loss: 0.2231 - accuracy: 0.93 - ETA: 0s - loss: 0.2256 - accuracy: 0.93 - ETA: 0s - loss: 0.2255 - accuracy: 0.93 - ETA: 0s - loss: 0.2234 - accuracy: 0.93 - ETA: 0s - loss: 0.2219 - accuracy: 0.93 - 6s 2ms/step - loss: 0.2219 - accuracy: 0.9314\n",
      "Epoch 15/20\n",
      "2929/2929 [==============================] - ETA: 5s - loss: 0.2336 - accuracy: 0.92 - ETA: 5s - loss: 0.2244 - accuracy: 0.93 - ETA: 4s - loss: 0.2103 - accuracy: 0.93 - ETA: 4s - loss: 0.2041 - accuracy: 0.94 - ETA: 4s - loss: 0.2223 - accuracy: 0.93 - ETA: 4s - loss: 0.2215 - accuracy: 0.93 - ETA: 4s - loss: 0.2201 - accuracy: 0.93 - ETA: 4s - loss: 0.2111 - accuracy: 0.93 - ETA: 3s - loss: 0.2107 - accuracy: 0.94 - ETA: 3s - loss: 0.2047 - accuracy: 0.94 - ETA: 3s - loss: 0.2048 - accuracy: 0.94 - ETA: 3s - loss: 0.2060 - accuracy: 0.94 - ETA: 3s - loss: 0.2063 - accuracy: 0.94 - ETA: 2s - loss: 0.2051 - accuracy: 0.94 - ETA: 2s - loss: 0.2136 - accuracy: 0.93 - ETA: 2s - loss: 0.2135 - accuracy: 0.93 - ETA: 2s - loss: 0.2123 - accuracy: 0.93 - ETA: 2s - loss: 0.2104 - accuracy: 0.93 - ETA: 1s - loss: 0.2139 - accuracy: 0.93 - ETA: 1s - loss: 0.2127 - accuracy: 0.93 - ETA: 1s - loss: 0.2111 - accuracy: 0.93 - ETA: 1s - loss: 0.2095 - accuracy: 0.93 - ETA: 1s - loss: 0.2085 - accuracy: 0.94 - ETA: 0s - loss: 0.2074 - accuracy: 0.94 - ETA: 0s - loss: 0.2085 - accuracy: 0.94 - ETA: 0s - loss: 0.2094 - accuracy: 0.94 - ETA: 0s - loss: 0.2100 - accuracy: 0.94 - ETA: 0s - loss: 0.2093 - accuracy: 0.94 - ETA: 0s - loss: 0.2091 - accuracy: 0.94 - 6s 2ms/step - loss: 0.2087 - accuracy: 0.9403\n",
      "Epoch 16/20\n",
      "2929/2929 [==============================] - ETA: 5s - loss: 0.1617 - accuracy: 0.95 - ETA: 5s - loss: 0.1832 - accuracy: 0.95 - ETA: 5s - loss: 0.1792 - accuracy: 0.95 - ETA: 4s - loss: 0.1750 - accuracy: 0.95 - ETA: 4s - loss: 0.1708 - accuracy: 0.95 - ETA: 4s - loss: 0.1674 - accuracy: 0.95 - ETA: 4s - loss: 0.1726 - accuracy: 0.95 - ETA: 4s - loss: 0.1789 - accuracy: 0.95 - ETA: 3s - loss: 0.1736 - accuracy: 0.95 - ETA: 3s - loss: 0.1784 - accuracy: 0.95 - ETA: 3s - loss: 0.1807 - accuracy: 0.95 - ETA: 3s - loss: 0.1820 - accuracy: 0.94 - ETA: 3s - loss: 0.1864 - accuracy: 0.94 - ETA: 2s - loss: 0.1853 - accuracy: 0.94 - ETA: 2s - loss: 0.1828 - accuracy: 0.94 - ETA: 2s - loss: 0.1810 - accuracy: 0.94 - ETA: 2s - loss: 0.1867 - accuracy: 0.94 - ETA: 2s - loss: 0.1920 - accuracy: 0.94 - ETA: 1s - loss: 0.1950 - accuracy: 0.94 - ETA: 1s - loss: 0.1926 - accuracy: 0.94 - ETA: 1s - loss: 0.1912 - accuracy: 0.94 - ETA: 1s - loss: 0.1928 - accuracy: 0.94 - ETA: 1s - loss: 0.1931 - accuracy: 0.94 - ETA: 0s - loss: 0.1948 - accuracy: 0.94 - ETA: 0s - loss: 0.1938 - accuracy: 0.94 - ETA: 0s - loss: 0.1949 - accuracy: 0.94 - ETA: 0s - loss: 0.1978 - accuracy: 0.94 - ETA: 0s - loss: 0.1963 - accuracy: 0.94 - ETA: 0s - loss: 0.1945 - accuracy: 0.94 - 6s 2ms/step - loss: 0.1943 - accuracy: 0.9447\n",
      "Epoch 17/20\n",
      "2929/2929 [==============================] - ETA: 5s - loss: 0.1481 - accuracy: 0.98 - ETA: 5s - loss: 0.1790 - accuracy: 0.94 - ETA: 4s - loss: 0.2043 - accuracy: 0.92 - ETA: 4s - loss: 0.1909 - accuracy: 0.93 - ETA: 4s - loss: 0.1816 - accuracy: 0.94 - ETA: 4s - loss: 0.1907 - accuracy: 0.94 - ETA: 4s - loss: 0.1785 - accuracy: 0.94 - ETA: 4s - loss: 0.1848 - accuracy: 0.94 - ETA: 3s - loss: 0.1867 - accuracy: 0.94 - ETA: 3s - loss: 0.1868 - accuracy: 0.94 - ETA: 3s - loss: 0.1921 - accuracy: 0.94 - ETA: 3s - loss: 0.1895 - accuracy: 0.94 - ETA: 3s - loss: 0.2003 - accuracy: 0.94 - ETA: 2s - loss: 0.1966 - accuracy: 0.94 - ETA: 2s - loss: 0.1973 - accuracy: 0.94 - ETA: 2s - loss: 0.2001 - accuracy: 0.94 - ETA: 2s - loss: 0.2044 - accuracy: 0.93 - ETA: 2s - loss: 0.2048 - accuracy: 0.93 - ETA: 1s - loss: 0.2047 - accuracy: 0.93 - ETA: 1s - loss: 0.2031 - accuracy: 0.93 - ETA: 1s - loss: 0.2044 - accuracy: 0.93 - ETA: 1s - loss: 0.2056 - accuracy: 0.93 - ETA: 1s - loss: 0.2054 - accuracy: 0.93 - ETA: 0s - loss: 0.2066 - accuracy: 0.93 - ETA: 0s - loss: 0.2065 - accuracy: 0.93 - ETA: 0s - loss: 0.2025 - accuracy: 0.93 - ETA: 0s - loss: 0.2027 - accuracy: 0.93 - ETA: 0s - loss: 0.2011 - accuracy: 0.94 - ETA: 0s - loss: 0.2028 - accuracy: 0.93 - 6s 2ms/step - loss: 0.2025 - accuracy: 0.9396\n",
      "Epoch 18/20\n",
      "2929/2929 [==============================] - ETA: 5s - loss: 0.2259 - accuracy: 0.95 - ETA: 5s - loss: 0.1955 - accuracy: 0.95 - ETA: 5s - loss: 0.1998 - accuracy: 0.95 - ETA: 4s - loss: 0.1985 - accuracy: 0.94 - ETA: 4s - loss: 0.1874 - accuracy: 0.95 - ETA: 4s - loss: 0.1881 - accuracy: 0.95 - ETA: 4s - loss: 0.1831 - accuracy: 0.95 - ETA: 4s - loss: 0.1834 - accuracy: 0.95 - ETA: 3s - loss: 0.1880 - accuracy: 0.94 - ETA: 3s - loss: 0.1875 - accuracy: 0.95 - ETA: 3s - loss: 0.1884 - accuracy: 0.94 - ETA: 3s - loss: 0.1848 - accuracy: 0.94 - ETA: 3s - loss: 0.1823 - accuracy: 0.95 - ETA: 2s - loss: 0.1826 - accuracy: 0.94 - ETA: 2s - loss: 0.1830 - accuracy: 0.94 - ETA: 2s - loss: 0.1803 - accuracy: 0.95 - ETA: 2s - loss: 0.1781 - accuracy: 0.95 - ETA: 2s - loss: 0.1767 - accuracy: 0.95 - ETA: 1s - loss: 0.1761 - accuracy: 0.95 - ETA: 1s - loss: 0.1776 - accuracy: 0.95 - ETA: 1s - loss: 0.1794 - accuracy: 0.94 - ETA: 1s - loss: 0.1805 - accuracy: 0.94 - ETA: 1s - loss: 0.1805 - accuracy: 0.94 - ETA: 1s - loss: 0.1823 - accuracy: 0.94 - ETA: 0s - loss: 0.1800 - accuracy: 0.94 - ETA: 0s - loss: 0.1809 - accuracy: 0.94 - ETA: 0s - loss: 0.1808 - accuracy: 0.94 - ETA: 0s - loss: 0.1814 - accuracy: 0.94 - ETA: 0s - loss: 0.1799 - accuracy: 0.94 - 6s 2ms/step - loss: 0.1805 - accuracy: 0.9467\n",
      "Epoch 19/20\n",
      "2929/2929 [==============================] - ETA: 5s - loss: 0.1836 - accuracy: 0.96 - ETA: 5s - loss: 0.1878 - accuracy: 0.93 - ETA: 5s - loss: 0.1932 - accuracy: 0.93 - ETA: 4s - loss: 0.1760 - accuracy: 0.94 - ETA: 4s - loss: 0.1753 - accuracy: 0.94 - ETA: 4s - loss: 0.1706 - accuracy: 0.95 - ETA: 4s - loss: 0.1634 - accuracy: 0.95 - ETA: 4s - loss: 0.1583 - accuracy: 0.95 - ETA: 3s - loss: 0.1586 - accuracy: 0.95 - ETA: 3s - loss: 0.1584 - accuracy: 0.95 - ETA: 3s - loss: 0.1603 - accuracy: 0.95 - ETA: 3s - loss: 0.1614 - accuracy: 0.95 - ETA: 3s - loss: 0.1618 - accuracy: 0.95 - ETA: 2s - loss: 0.1618 - accuracy: 0.95 - ETA: 2s - loss: 0.1676 - accuracy: 0.94 - ETA: 2s - loss: 0.1708 - accuracy: 0.94 - ETA: 2s - loss: 0.1728 - accuracy: 0.94 - ETA: 2s - loss: 0.1721 - accuracy: 0.94 - ETA: 1s - loss: 0.1731 - accuracy: 0.94 - ETA: 1s - loss: 0.1740 - accuracy: 0.94 - ETA: 1s - loss: 0.1724 - accuracy: 0.95 - ETA: 1s - loss: 0.1705 - accuracy: 0.95 - ETA: 1s - loss: 0.1680 - accuracy: 0.95 - ETA: 1s - loss: 0.1688 - accuracy: 0.95 - ETA: 0s - loss: 0.1681 - accuracy: 0.95 - ETA: 0s - loss: 0.1700 - accuracy: 0.95 - ETA: 0s - loss: 0.1709 - accuracy: 0.94 - ETA: 0s - loss: 0.1740 - accuracy: 0.94 - ETA: 0s - loss: 0.1735 - accuracy: 0.94 - 6s 2ms/step - loss: 0.1733 - accuracy: 0.9481\n",
      "Epoch 20/20\n",
      "2929/2929 [==============================] - ETA: 5s - loss: 0.1494 - accuracy: 0.95 - ETA: 5s - loss: 0.1678 - accuracy: 0.95 - ETA: 4s - loss: 0.1742 - accuracy: 0.95 - ETA: 4s - loss: 0.1643 - accuracy: 0.95 - ETA: 4s - loss: 0.1590 - accuracy: 0.96 - ETA: 4s - loss: 0.1505 - accuracy: 0.96 - ETA: 4s - loss: 0.1494 - accuracy: 0.96 - ETA: 4s - loss: 0.1520 - accuracy: 0.95 - ETA: 3s - loss: 0.1452 - accuracy: 0.96 - ETA: 3s - loss: 0.1505 - accuracy: 0.95 - ETA: 3s - loss: 0.1482 - accuracy: 0.96 - ETA: 3s - loss: 0.1472 - accuracy: 0.96 - ETA: 3s - loss: 0.1458 - accuracy: 0.96 - ETA: 2s - loss: 0.1472 - accuracy: 0.96 - ETA: 2s - loss: 0.1487 - accuracy: 0.96 - ETA: 2s - loss: 0.1540 - accuracy: 0.96 - ETA: 2s - loss: 0.1535 - accuracy: 0.96 - ETA: 2s - loss: 0.1534 - accuracy: 0.96 - ETA: 1s - loss: 0.1505 - accuracy: 0.96 - ETA: 1s - loss: 0.1494 - accuracy: 0.96 - ETA: 1s - loss: 0.1510 - accuracy: 0.96 - ETA: 1s - loss: 0.1529 - accuracy: 0.96 - ETA: 1s - loss: 0.1540 - accuracy: 0.95 - ETA: 1s - loss: 0.1543 - accuracy: 0.95 - ETA: 0s - loss: 0.1552 - accuracy: 0.95 - ETA: 0s - loss: 0.1554 - accuracy: 0.95 - ETA: 0s - loss: 0.1555 - accuracy: 0.95 - ETA: 0s - loss: 0.1567 - accuracy: 0.95 - ETA: 0s - loss: 0.1546 - accuracy: 0.95 - 6s 2ms/step - loss: 0.1558 - accuracy: 0.9583\n"
     ]
    },
    {
     "data": {
      "text/plain": [
       "<keras.callbacks.callbacks.History at 0x1a58b1471d0>"
      ]
     },
     "execution_count": 16,
     "metadata": {},
     "output_type": "execute_result"
    }
   ],
   "source": [
    "classifier.fit(X_train, y_train, epochs=20, batch_size = 100)"
   ]
  },
  {
   "cell_type": "code",
   "execution_count": 17,
   "metadata": {},
   "outputs": [
    {
     "name": "stdout",
     "output_type": "stream",
     "text": [
      "Epoch 1/20\n",
      "733/733 [==============================] - ETA: 1s - loss: 1.1477 - accuracy: 0.69 - ETA: 1s - loss: 0.9837 - accuracy: 0.73 - ETA: 0s - loss: 0.8320 - accuracy: 0.75 - ETA: 0s - loss: 0.8140 - accuracy: 0.75 - ETA: 0s - loss: 0.8163 - accuracy: 0.74 - ETA: 0s - loss: 0.8440 - accuracy: 0.73 - ETA: 0s - loss: 0.8745 - accuracy: 0.71 - 1s 2ms/step - loss: 0.8817 - accuracy: 0.7121\n",
      "Epoch 2/20\n",
      "733/733 [==============================] - ETA: 1s - loss: 0.7341 - accuracy: 0.72 - ETA: 0s - loss: 0.8306 - accuracy: 0.71 - ETA: 0s - loss: 0.8108 - accuracy: 0.73 - ETA: 0s - loss: 0.8266 - accuracy: 0.72 - ETA: 0s - loss: 0.7929 - accuracy: 0.74 - ETA: 0s - loss: 0.7661 - accuracy: 0.74 - ETA: 0s - loss: 0.7390 - accuracy: 0.75 - 1s 2ms/step - loss: 0.7385 - accuracy: 0.7531\n",
      "Epoch 3/20\n",
      "733/733 [==============================] - ETA: 1s - loss: 0.6143 - accuracy: 0.74 - ETA: 1s - loss: 0.6416 - accuracy: 0.74 - ETA: 0s - loss: 0.6102 - accuracy: 0.77 - ETA: 0s - loss: 0.6396 - accuracy: 0.76 - ETA: 0s - loss: 0.6043 - accuracy: 0.77 - ETA: 0s - loss: 0.6239 - accuracy: 0.76 - ETA: 0s - loss: 0.6336 - accuracy: 0.76 - 1s 2ms/step - loss: 0.6268 - accuracy: 0.7640\n",
      "Epoch 4/20\n",
      "733/733 [==============================] - ETA: 1s - loss: 0.4883 - accuracy: 0.79 - ETA: 1s - loss: 0.5946 - accuracy: 0.75 - ETA: 0s - loss: 0.5597 - accuracy: 0.76 - ETA: 0s - loss: 0.5886 - accuracy: 0.76 - ETA: 0s - loss: 0.5651 - accuracy: 0.77 - ETA: 0s - loss: 0.5739 - accuracy: 0.77 - ETA: 0s - loss: 0.5768 - accuracy: 0.77 - 1s 2ms/step - loss: 0.5708 - accuracy: 0.7790\n",
      "Epoch 5/20\n",
      "733/733 [==============================] - ETA: 1s - loss: 0.4468 - accuracy: 0.83 - ETA: 0s - loss: 0.4912 - accuracy: 0.82 - ETA: 0s - loss: 0.4892 - accuracy: 0.83 - ETA: 0s - loss: 0.4924 - accuracy: 0.82 - ETA: 0s - loss: 0.4952 - accuracy: 0.82 - ETA: 0s - loss: 0.5055 - accuracy: 0.81 - ETA: 0s - loss: 0.4908 - accuracy: 0.82 - 1s 2ms/step - loss: 0.4940 - accuracy: 0.8240\n",
      "Epoch 6/20\n",
      "733/733 [==============================] - ETA: 1s - loss: 0.4737 - accuracy: 0.83 - ETA: 1s - loss: 0.5547 - accuracy: 0.79 - ETA: 0s - loss: 0.5298 - accuracy: 0.80 - ETA: 0s - loss: 0.5021 - accuracy: 0.81 - ETA: 0s - loss: 0.4844 - accuracy: 0.83 - ETA: 0s - loss: 0.4700 - accuracy: 0.83 - ETA: 0s - loss: 0.4819 - accuracy: 0.82 - 1s 2ms/step - loss: 0.4746 - accuracy: 0.8295\n",
      "Epoch 7/20\n",
      "733/733 [==============================] - ETA: 1s - loss: 0.3655 - accuracy: 0.81 - ETA: 1s - loss: 0.3941 - accuracy: 0.82 - ETA: 0s - loss: 0.4035 - accuracy: 0.82 - ETA: 0s - loss: 0.4256 - accuracy: 0.82 - ETA: 0s - loss: 0.4209 - accuracy: 0.83 - ETA: 0s - loss: 0.4247 - accuracy: 0.84 - ETA: 0s - loss: 0.4170 - accuracy: 0.84 - 1s 2ms/step - loss: 0.4125 - accuracy: 0.8458\n",
      "Epoch 8/20\n",
      "733/733 [==============================] - ETA: 1s - loss: 0.3480 - accuracy: 0.89 - ETA: 1s - loss: 0.3777 - accuracy: 0.88 - ETA: 0s - loss: 0.3935 - accuracy: 0.86 - ETA: 0s - loss: 0.3809 - accuracy: 0.86 - ETA: 0s - loss: 0.3933 - accuracy: 0.85 - ETA: 0s - loss: 0.3735 - accuracy: 0.86 - ETA: 0s - loss: 0.3800 - accuracy: 0.86 - 1s 2ms/step - loss: 0.3788 - accuracy: 0.8608\n",
      "Epoch 9/20\n",
      "733/733 [==============================] - ETA: 1s - loss: 0.3201 - accuracy: 0.91 - ETA: 1s - loss: 0.2831 - accuracy: 0.91 - ETA: 0s - loss: 0.2983 - accuracy: 0.89 - ETA: 0s - loss: 0.3167 - accuracy: 0.88 - ETA: 0s - loss: 0.3250 - accuracy: 0.87 - ETA: 0s - loss: 0.3647 - accuracy: 0.86 - ETA: 0s - loss: 0.3695 - accuracy: 0.86 - 1s 2ms/step - loss: 0.3643 - accuracy: 0.8636\n",
      "Epoch 10/20\n",
      "733/733 [==============================] - ETA: 1s - loss: 0.3700 - accuracy: 0.87 - ETA: 1s - loss: 0.3490 - accuracy: 0.87 - ETA: 0s - loss: 0.3477 - accuracy: 0.87 - ETA: 0s - loss: 0.3278 - accuracy: 0.88 - ETA: 0s - loss: 0.3245 - accuracy: 0.88 - ETA: 0s - loss: 0.3269 - accuracy: 0.89 - ETA: 0s - loss: 0.3445 - accuracy: 0.89 - 1s 2ms/step - loss: 0.3399 - accuracy: 0.8909\n",
      "Epoch 11/20\n",
      "733/733 [==============================] - ETA: 1s - loss: 0.3020 - accuracy: 0.92 - ETA: 1s - loss: 0.2787 - accuracy: 0.92 - ETA: 0s - loss: 0.2752 - accuracy: 0.91 - ETA: 0s - loss: 0.2960 - accuracy: 0.90 - ETA: 0s - loss: 0.2942 - accuracy: 0.90 - ETA: 0s - loss: 0.2957 - accuracy: 0.90 - ETA: 0s - loss: 0.2991 - accuracy: 0.90 - 1s 2ms/step - loss: 0.3010 - accuracy: 0.8990\n",
      "Epoch 12/20\n",
      "733/733 [==============================] - ETA: 1s - loss: 0.2460 - accuracy: 0.92 - ETA: 1s - loss: 0.2668 - accuracy: 0.91 - ETA: 0s - loss: 0.3005 - accuracy: 0.89 - ETA: 0s - loss: 0.2859 - accuracy: 0.89 - ETA: 0s - loss: 0.2866 - accuracy: 0.89 - ETA: 0s - loss: 0.2865 - accuracy: 0.89 - ETA: 0s - loss: 0.2830 - accuracy: 0.90 - 2s 2ms/step - loss: 0.2790 - accuracy: 0.9031\n",
      "Epoch 13/20\n",
      "733/733 [==============================] - ETA: 1s - loss: 0.3033 - accuracy: 0.88 - ETA: 1s - loss: 0.2594 - accuracy: 0.89 - ETA: 0s - loss: 0.2568 - accuracy: 0.90 - ETA: 0s - loss: 0.2612 - accuracy: 0.91 - ETA: 0s - loss: 0.2585 - accuracy: 0.91 - ETA: 0s - loss: 0.2509 - accuracy: 0.91 - ETA: 0s - loss: 0.2470 - accuracy: 0.91 - 1s 2ms/step - loss: 0.2475 - accuracy: 0.9154\n",
      "Epoch 14/20\n",
      "733/733 [==============================] - ETA: 1s - loss: 0.2590 - accuracy: 0.91 - ETA: 1s - loss: 0.2466 - accuracy: 0.92 - ETA: 0s - loss: 0.2331 - accuracy: 0.92 - ETA: 0s - loss: 0.2250 - accuracy: 0.93 - ETA: 0s - loss: 0.2239 - accuracy: 0.93 - ETA: 0s - loss: 0.2194 - accuracy: 0.93 - ETA: 0s - loss: 0.2174 - accuracy: 0.93 - 1s 2ms/step - loss: 0.2188 - accuracy: 0.9359\n",
      "Epoch 15/20\n",
      "733/733 [==============================] - ETA: 1s - loss: 0.1728 - accuracy: 0.93 - ETA: 1s - loss: 0.1740 - accuracy: 0.93 - ETA: 0s - loss: 0.1843 - accuracy: 0.92 - ETA: 0s - loss: 0.2047 - accuracy: 0.92 - ETA: 0s - loss: 0.1947 - accuracy: 0.92 - ETA: 0s - loss: 0.2056 - accuracy: 0.92 - ETA: 0s - loss: 0.2090 - accuracy: 0.92 - 1s 2ms/step - loss: 0.2062 - accuracy: 0.9263\n",
      "Epoch 16/20\n",
      "733/733 [==============================] - ETA: 1s - loss: 0.1264 - accuracy: 0.97 - ETA: 1s - loss: 0.1709 - accuracy: 0.95 - ETA: 0s - loss: 0.1898 - accuracy: 0.94 - ETA: 0s - loss: 0.1786 - accuracy: 0.94 - ETA: 0s - loss: 0.1911 - accuracy: 0.94 - ETA: 0s - loss: 0.1960 - accuracy: 0.93 - ETA: 0s - loss: 0.1954 - accuracy: 0.94 - 1s 2ms/step - loss: 0.1957 - accuracy: 0.9413\n",
      "Epoch 17/20\n",
      "733/733 [==============================] - ETA: 1s - loss: 0.2197 - accuracy: 0.95 - ETA: 1s - loss: 0.1961 - accuracy: 0.95 - ETA: 0s - loss: 0.1876 - accuracy: 0.94 - ETA: 0s - loss: 0.1833 - accuracy: 0.94 - ETA: 0s - loss: 0.1945 - accuracy: 0.93 - ETA: 0s - loss: 0.1921 - accuracy: 0.93 - ETA: 0s - loss: 0.1923 - accuracy: 0.93 - 1s 2ms/step - loss: 0.1904 - accuracy: 0.9359\n",
      "Epoch 18/20\n",
      "733/733 [==============================] - ETA: 1s - loss: 0.1503 - accuracy: 0.98 - ETA: 1s - loss: 0.1446 - accuracy: 0.97 - ETA: 0s - loss: 0.1500 - accuracy: 0.96 - ETA: 0s - loss: 0.1558 - accuracy: 0.95 - ETA: 0s - loss: 0.1472 - accuracy: 0.95 - ETA: 0s - loss: 0.1535 - accuracy: 0.95 - ETA: 0s - loss: 0.1558 - accuracy: 0.95 - 1s 2ms/step - loss: 0.1535 - accuracy: 0.9509\n",
      "Epoch 19/20\n",
      "733/733 [==============================] - ETA: 1s - loss: 0.1096 - accuracy: 0.99 - ETA: 1s - loss: 0.1380 - accuracy: 0.97 - ETA: 0s - loss: 0.1390 - accuracy: 0.97 - ETA: 0s - loss: 0.1470 - accuracy: 0.97 - ETA: 0s - loss: 0.1439 - accuracy: 0.97 - ETA: 0s - loss: 0.1444 - accuracy: 0.97 - ETA: 0s - loss: 0.1420 - accuracy: 0.96 - 1s 2ms/step - loss: 0.1404 - accuracy: 0.9686\n",
      "Epoch 20/20\n",
      "733/733 [==============================] - ETA: 1s - loss: 0.1286 - accuracy: 0.96 - ETA: 1s - loss: 0.1339 - accuracy: 0.95 - ETA: 0s - loss: 0.1237 - accuracy: 0.96 - ETA: 0s - loss: 0.1197 - accuracy: 0.96 - ETA: 0s - loss: 0.1216 - accuracy: 0.96 - ETA: 0s - loss: 0.1229 - accuracy: 0.96 - ETA: 0s - loss: 0.1216 - accuracy: 0.96 - 1s 2ms/step - loss: 0.1252 - accuracy: 0.9659\n"
     ]
    },
    {
     "data": {
      "text/plain": [
       "<keras.callbacks.callbacks.History at 0x1a58b10eef0>"
      ]
     },
     "execution_count": 17,
     "metadata": {},
     "output_type": "execute_result"
    }
   ],
   "source": [
    "classifier.fit(X_test, y_test, epochs=20, batch_size = 100)"
   ]
  },
  {
   "cell_type": "code",
   "execution_count": null,
   "metadata": {},
   "outputs": [],
   "source": []
  }
 ],
 "metadata": {
  "kernelspec": {
   "display_name": "Python 3",
   "language": "python",
   "name": "python3"
  },
  "language_info": {
   "codemirror_mode": {
    "name": "ipython",
    "version": 3
   },
   "file_extension": ".py",
   "mimetype": "text/x-python",
   "name": "python",
   "nbconvert_exporter": "python",
   "pygments_lexer": "ipython3",
   "version": "3.7.3"
  }
 },
 "nbformat": 4,
 "nbformat_minor": 2
}
