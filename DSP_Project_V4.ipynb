{
 "cells": [
  {
   "cell_type": "markdown",
   "metadata": {},
   "source": [
    "# DSP Project Version 4 with all classes, applying Decision Tree, Gaussian Naive Bayes and Support Vector Machines"
   ]
  },
  {
   "cell_type": "code",
   "execution_count": 1,
   "metadata": {},
   "outputs": [
    {
     "name": "stderr",
     "output_type": "stream",
     "text": [
      "Using TensorFlow backend.\n"
     ]
    }
   ],
   "source": [
    "import keras\n",
    "from keras.preprocessing import image\n",
    "import numpy as np\n",
    "import pandas as pd\n",
    "import matplotlib.pyplot as plt\n",
    "from sklearn.model_selection import train_test_split\n",
    "from keras.utils import to_categorical\n",
    "from tqdm import tqdm"
   ]
  },
  {
   "cell_type": "code",
   "execution_count": 2,
   "metadata": {},
   "outputs": [],
   "source": [
    "data = pd.read_csv('train.csv')"
   ]
  },
  {
   "cell_type": "code",
   "execution_count": 3,
   "metadata": {},
   "outputs": [
    {
     "data": {
      "text/html": [
       "<div>\n",
       "<style scoped>\n",
       "    .dataframe tbody tr th:only-of-type {\n",
       "        vertical-align: middle;\n",
       "    }\n",
       "\n",
       "    .dataframe tbody tr th {\n",
       "        vertical-align: top;\n",
       "    }\n",
       "\n",
       "    .dataframe thead th {\n",
       "        text-align: right;\n",
       "    }\n",
       "</style>\n",
       "<table border=\"1\" class=\"dataframe\">\n",
       "  <thead>\n",
       "    <tr style=\"text-align: right;\">\n",
       "      <th></th>\n",
       "      <th>diagnosis</th>\n",
       "    </tr>\n",
       "  </thead>\n",
       "  <tbody>\n",
       "    <tr>\n",
       "      <th>count</th>\n",
       "      <td>3662.000000</td>\n",
       "    </tr>\n",
       "    <tr>\n",
       "      <th>mean</th>\n",
       "      <td>1.126980</td>\n",
       "    </tr>\n",
       "    <tr>\n",
       "      <th>std</th>\n",
       "      <td>1.298409</td>\n",
       "    </tr>\n",
       "    <tr>\n",
       "      <th>min</th>\n",
       "      <td>0.000000</td>\n",
       "    </tr>\n",
       "    <tr>\n",
       "      <th>25%</th>\n",
       "      <td>0.000000</td>\n",
       "    </tr>\n",
       "    <tr>\n",
       "      <th>50%</th>\n",
       "      <td>1.000000</td>\n",
       "    </tr>\n",
       "    <tr>\n",
       "      <th>75%</th>\n",
       "      <td>2.000000</td>\n",
       "    </tr>\n",
       "    <tr>\n",
       "      <th>max</th>\n",
       "      <td>4.000000</td>\n",
       "    </tr>\n",
       "  </tbody>\n",
       "</table>\n",
       "</div>"
      ],
      "text/plain": [
       "         diagnosis\n",
       "count  3662.000000\n",
       "mean      1.126980\n",
       "std       1.298409\n",
       "min       0.000000\n",
       "25%       0.000000\n",
       "50%       1.000000\n",
       "75%       2.000000\n",
       "max       4.000000"
      ]
     },
     "execution_count": 3,
     "metadata": {},
     "output_type": "execute_result"
    }
   ],
   "source": [
    "data.describe()"
   ]
  },
  {
   "cell_type": "code",
   "execution_count": 4,
   "metadata": {},
   "outputs": [
    {
     "name": "stdout",
     "output_type": "stream",
     "text": [
      "0    1805\n",
      "2     999\n",
      "1     370\n",
      "4     295\n",
      "3     193\n",
      "Name: diagnosis, dtype: int64\n"
     ]
    }
   ],
   "source": [
    "print(data['diagnosis'].value_counts())"
   ]
  },
  {
   "cell_type": "code",
   "execution_count": 5,
   "metadata": {},
   "outputs": [],
   "source": [
    "data.reset_index(inplace = True)"
   ]
  },
  {
   "cell_type": "code",
   "execution_count": 6,
   "metadata": {},
   "outputs": [],
   "source": [
    "data = data.drop(columns = 'index')"
   ]
  },
  {
   "cell_type": "code",
   "execution_count": 7,
   "metadata": {},
   "outputs": [
    {
     "name": "stderr",
     "output_type": "stream",
     "text": [
      "100%|██████████| 3662/3662 [04:46<00:00, 12.94it/s]\n"
     ]
    }
   ],
   "source": [
    "train_image = []\n",
    "for i in tqdm(range(data.shape[0])):\n",
    "    img = image.load_img('train_images/' + data['id_code'][i] + '.png', target_size=(64,64,3), grayscale=False)\n",
    "    img = image.img_to_array(img)\n",
    "    img = img/255\n",
    "    train_image.append(img)\n",
    "X = np.array(train_image)"
   ]
  },
  {
   "cell_type": "code",
   "execution_count": 8,
   "metadata": {},
   "outputs": [
    {
     "data": {
      "text/plain": [
       "(3662, 64, 64, 3)"
      ]
     },
     "execution_count": 8,
     "metadata": {},
     "output_type": "execute_result"
    }
   ],
   "source": [
    "X.shape"
   ]
  },
  {
   "cell_type": "code",
   "execution_count": 9,
   "metadata": {},
   "outputs": [],
   "source": [
    "y = data.iloc[:, -1].values"
   ]
  },
  {
   "cell_type": "code",
   "execution_count": 10,
   "metadata": {},
   "outputs": [],
   "source": [
    "nsamples, nx, ny, nz = X.shape\n",
    "X = X.reshape((nsamples,nx*ny*nz))"
   ]
  },
  {
   "cell_type": "code",
   "execution_count": 11,
   "metadata": {},
   "outputs": [],
   "source": [
    "from sklearn.metrics import confusion_matrix \n",
    "X_train, X_test, y_train, y_test = train_test_split(X, y, random_state=42, test_size=0.2)\n",
    "from sklearn.tree import DecisionTreeClassifier \n",
    "dtree_model = DecisionTreeClassifier().fit(X_train, y_train) \n",
    "y_pred_DT = dtree_model.predict(X_test) "
   ]
  },
  {
   "cell_type": "code",
   "execution_count": 12,
   "metadata": {},
   "outputs": [
    {
     "name": "stdout",
     "output_type": "stream",
     "text": [
      "Accuracy: 0.6753069577080492\n",
      "F1 score: 0.46572453986965073\n",
      "Recall: 0.46423604472486\n",
      "Precision: 0.46820644129303346\n",
      "\n",
      " Classification report:\n",
      "               precision    recall  f1-score   support\n",
      "\n",
      "           0       0.91      0.92      0.91       351\n",
      "           1       0.35      0.37      0.36        68\n",
      "           2       0.59      0.58      0.58       213\n",
      "           3       0.27      0.22      0.24        36\n",
      "           4       0.23      0.23      0.23        65\n",
      "\n",
      "    accuracy                           0.68       733\n",
      "   macro avg       0.47      0.46      0.47       733\n",
      "weighted avg       0.67      0.68      0.67       733\n",
      "\n",
      "\n",
      " Confusion matrix:\n",
      " [[324   9  13   2   3]\n",
      " [  7  25  23   6   7]\n",
      " [ 15  30 123  11  34]\n",
      " [  3   2  17   8   6]\n",
      " [  9   6  32   3  15]]\n"
     ]
    }
   ],
   "source": [
    "from sklearn.metrics import confusion_matrix, precision_score, recall_score, classification_report, accuracy_score, f1_score\n",
    "\n",
    "print('Accuracy:', accuracy_score(y_test, y_pred_DT))\n",
    "print('F1 score:', f1_score(y_test, y_pred_DT, average = 'macro'))\n",
    "print('Recall:', recall_score(y_test, y_pred_DT, average = 'macro'))\n",
    "print('Precision:', precision_score(y_test, y_pred_DT, average = 'macro'))\n",
    "print('\\n Classification report:\\n', classification_report(y_test, y_pred_DT))\n",
    "print('\\n Confusion matrix:\\n',confusion_matrix(y_test, y_pred_DT))"
   ]
  },
  {
   "cell_type": "code",
   "execution_count": 13,
   "metadata": {},
   "outputs": [],
   "source": [
    "from sklearn.naive_bayes import GaussianNB \n",
    "gnb = GaussianNB().fit(X_train, y_train) \n",
    "y_pred_NB = gnb.predict(X_test) "
   ]
  },
  {
   "cell_type": "code",
   "execution_count": 14,
   "metadata": {},
   "outputs": [
    {
     "name": "stdout",
     "output_type": "stream",
     "text": [
      "Accuracy: 0.4870395634379263\n",
      "F1 score: 0.31645888614309664\n",
      "Recall: 0.38287888551351684\n",
      "Precision: 0.39349308286848583\n",
      "\n",
      " Classification report:\n",
      "               precision    recall  f1-score   support\n",
      "\n",
      "           0       0.92      0.73      0.82       351\n",
      "           1       0.17      0.68      0.27        68\n",
      "           2       0.58      0.20      0.29       213\n",
      "           3       0.10      0.28      0.15        36\n",
      "           4       0.20      0.03      0.05        65\n",
      "\n",
      "    accuracy                           0.49       733\n",
      "   macro avg       0.39      0.38      0.32       733\n",
      "weighted avg       0.65      0.49      0.51       733\n",
      "\n",
      "\n",
      " Confusion matrix:\n",
      " [[257  49   7  36   2]\n",
      " [  6  46   8   6   2]\n",
      " [ 10 129  42  28   4]\n",
      " [  2  17   7  10   0]\n",
      " [  4  33   9  17   2]]\n"
     ]
    }
   ],
   "source": [
    "from sklearn.metrics import confusion_matrix, precision_score, recall_score, classification_report, accuracy_score, f1_score\n",
    "\n",
    "#confusion_matrix(y_train.argmax(axis=1), y_train_pred.argmax(axis=1))\n",
    "print('Accuracy:', accuracy_score(y_test, y_pred_NB))\n",
    "print('F1 score:', f1_score(y_test, y_pred_NB, average = 'macro'))\n",
    "print('Recall:', recall_score(y_test, y_pred_NB, average = 'macro'))\n",
    "print('Precision:', precision_score(y_test, y_pred_NB, average = 'macro'))\n",
    "print('\\n Classification report:\\n', classification_report(y_test, y_pred_NB))\n",
    "print('\\n Confusion matrix:\\n',confusion_matrix(y_test, y_pred_NB))"
   ]
  },
  {
   "cell_type": "code",
   "execution_count": 15,
   "metadata": {},
   "outputs": [],
   "source": [
    "from sklearn.svm import SVC \n",
    "svm_model_linear = SVC(kernel = 'linear', C = 1).fit(X_train, y_train) \n",
    "y_pred_svm = svm_model_linear.predict(X_test)"
   ]
  },
  {
   "cell_type": "code",
   "execution_count": 16,
   "metadata": {},
   "outputs": [
    {
     "name": "stdout",
     "output_type": "stream",
     "text": [
      "Accuracy: 0.7148703956343793\n",
      "F1 score: 0.4668087830058242\n",
      "Recall: 0.46341974757881965\n",
      "Precision: 0.4878931661143929\n",
      "\n",
      " Classification report:\n",
      "               precision    recall  f1-score   support\n",
      "\n",
      "           0       0.91      0.96      0.94       351\n",
      "           1       0.36      0.38      0.37        68\n",
      "           2       0.61      0.68      0.64       213\n",
      "           3       0.24      0.11      0.15        36\n",
      "           4       0.32      0.18      0.24        65\n",
      "\n",
      "    accuracy                           0.71       733\n",
      "   macro avg       0.49      0.46      0.47       733\n",
      "weighted avg       0.69      0.71      0.70       733\n",
      "\n",
      "\n",
      " Confusion matrix:\n",
      " [[338   4   8   0   1]\n",
      " [  8  26  29   2   3]\n",
      " [ 15  30 144   7  17]\n",
      " [  2   5  21   4   4]\n",
      " [  7   8  34   4  12]]\n"
     ]
    }
   ],
   "source": [
    "from sklearn.metrics import confusion_matrix, precision_score, recall_score, classification_report, accuracy_score, f1_score\n",
    "\n",
    "#confusion_matrix(y_train.argmax(axis=1), y_train_pred.argmax(axis=1))\n",
    "print('Accuracy:', accuracy_score(y_test, y_pred_svm))\n",
    "print('F1 score:', f1_score(y_test, y_pred_svm, average = 'macro'))\n",
    "print('Recall:', recall_score(y_test, y_pred_svm, average = 'macro'))\n",
    "print('Precision:', precision_score(y_test, y_pred_svm, average = 'macro'))\n",
    "print('\\n Classification report:\\n', classification_report(y_test, y_pred_svm))\n",
    "print('\\n Confusion matrix:\\n',confusion_matrix(y_test, y_pred_svm))"
   ]
  },
  {
   "cell_type": "code",
   "execution_count": null,
   "metadata": {},
   "outputs": [],
   "source": []
  },
  {
   "cell_type": "code",
   "execution_count": null,
   "metadata": {},
   "outputs": [],
   "source": []
  }
 ],
 "metadata": {
  "kernelspec": {
   "display_name": "Python 3",
   "language": "python",
   "name": "python3"
  },
  "language_info": {
   "codemirror_mode": {
    "name": "ipython",
    "version": 3
   },
   "file_extension": ".py",
   "mimetype": "text/x-python",
   "name": "python",
   "nbconvert_exporter": "python",
   "pygments_lexer": "ipython3",
   "version": "3.7.3"
  }
 },
 "nbformat": 4,
 "nbformat_minor": 2
}
